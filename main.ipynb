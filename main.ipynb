{
 "cells": [
  {
   "cell_type": "code",
   "execution_count": 1,
   "id": "50d51296",
   "metadata": {},
   "outputs": [],
   "source": [
    "from keybert import KeyBERT"
   ]
  },
  {
   "cell_type": "code",
   "execution_count": 84,
   "id": "efdbc39f",
   "metadata": {},
   "outputs": [],
   "source": [
    "class Keyword():\n",
    "    def __init__(self, language):\n",
    "        supported_languages = ['it', 'fr']\n",
    "        if language == 'en':\n",
    "            self.stopwords = 'english'\n",
    "            model = 'xlm-r-distilroberta-base-paraphrase-v1'\n",
    "        elif language in supported_languages:\n",
    "            with open(f'stopwords_{language}.txt', 'r') as file:\n",
    "                temp = file.readlines()\n",
    "                self.stopwords = [x.strip('\\n') for x in temp]\n",
    "        else:\n",
    "            raise KeyError (f'{language} language is not supported :(')\n",
    "            \n",
    "        model = 'distiluse-base-multilingual-cased-v1'    \n",
    "        self.model = KeyBERT(model)\n",
    "        \n",
    "    def extract(self, doc, n_kw=5, min_len=1, max_len=1):\n",
    "        keywords = self.model.extract_keywords(doc,\n",
    "                                               stop_words=self.stopwords,\n",
    "                                               top_n=n_kw,\n",
    "                                               keyphrase_ngram_range=(min_len, max_len))\n",
    "        keywords = [x[0] for x in keywords]\n",
    "        return keywords"
   ]
  },
  {
   "cell_type": "code",
   "execution_count": 36,
   "id": "3cfe0300",
   "metadata": {},
   "outputs": [],
   "source": [
    "doc_en = \"\"\"\n",
    "Richard Phillips Feynman ForMemRS (/ˈfaɪnmən/; May 11, 1918 – February 15, 1988) was an American theoretical physicist, known for his work in the path integral formulation of quantum mechanics, the theory of quantum electrodynamics, the physics of the superfluidity of supercooled liquid helium, as well as his work in particle physics for which he proposed the parton model. For contributions to the development of quantum electrodynamics, Feynman received the Nobel Prize in Physics in 1965 jointly with Julian Schwinger and Shin'ichirō Tomonaga.\n",
    "\n",
    "Feynman developed a widely used pictorial representation scheme for the mathematical expressions describing the behavior of subatomic particles, which later became known as Feynman diagrams. During his lifetime, Feynman became one of the best-known scientists in the world. In a 1999 poll of 130 leading physicists worldwide by the British journal Physics World, he was ranked the seventh greatest physicist of all time.[2]\n",
    "\n",
    "He assisted in the development of the atomic bomb during World War II and became known to a wide public in the 1980s as a member of the Rogers Commission, the panel that investigated the Space Shuttle Challenger disaster. Along with his work in theoretical physics, Feynman has been credited with pioneering the field of quantum computing and introducing the concept of nanotechnology. He held the Richard C. Tolman professorship in theoretical physics at the California Institute of Technology.\n",
    "\"\"\"\n",
    "\n",
    "doc_it = \"\"\"\n",
    "Il termine \"guerra mondiale\" fu coniato all'inizio del XX secolo, negli anni antecedenti alla prima guerra mondiale stessa. L'attivazione degli opposti sistemi di alleanze europee, ovvero la Triplice alleanza (composta da Impero tedesco, Impero austro-ungarico e Regno d'Italia) e l'Intesa (formata da Francia, Impero russo e Regno Unito) avrebbe portato a un conflitto globale, a causa dei grandi imperi coloniali posseduti da molte delle potenze d'Europa in tutto il mondo: le colonie, infatti, avrebbero rivestito un importante ruolo strategico. Le stesse considerazioni portarono a comprendere che l'eventuale conflitto non sarebbe rimasto isolato alle sole colonie, ma che piuttosto si sarebbe facilmente potuto espandere ad altri territori, portando a estensioni dei combattimenti inimmaginabili nell'era pre-coloniale.\n",
    "\n",
    "Anche se il primo conflitto del 1914-1918 venne definito \"mondiale\" già pochi giorni dopo il suo scoppio, sembra che il termine \"Prima\" non sia stato anteposto fino agli inizi degli anni venti. Il conflitto rimase infatti assai più conosciuto come Grande Guerra (\"Guerra del '15-'18\" in Italia, che vi partecipò dal 24 maggio 1915) fino a quando lo scoppio della seconda guerra mondiale rese necessaria la distinzione.\"\"\""
   ]
  },
  {
   "cell_type": "code",
   "execution_count": 85,
   "id": "deccc96a",
   "metadata": {},
   "outputs": [
    {
     "data": {
      "text/plain": [
       "['guerra', '1914', 'alleanza', 'conflitto', '1915']"
      ]
     },
     "execution_count": 85,
     "metadata": {},
     "output_type": "execute_result"
    }
   ],
   "source": [
    "kw_obj = Keyword('it')\n",
    "kw_obj.extract(doc_it)"
   ]
  },
  {
   "cell_type": "code",
   "execution_count": 65,
   "id": "69afb3c9",
   "metadata": {},
   "outputs": [
    {
     "data": {
      "text/plain": [
       "['electrodynamics', 'superfluidity', 'feynman', 'supercooled', 'schwinger']"
      ]
     },
     "execution_count": 65,
     "metadata": {},
     "output_type": "execute_result"
    }
   ],
   "source": [
    "kw_obj = Keyword('en')\n",
    "kw_obj.extract(doc_en)"
   ]
  }
 ],
 "metadata": {
  "kernelspec": {
   "display_name": "Python 3",
   "language": "python",
   "name": "python3"
  },
  "language_info": {
   "codemirror_mode": {
    "name": "ipython",
    "version": 3
   },
   "file_extension": ".py",
   "mimetype": "text/x-python",
   "name": "python",
   "nbconvert_exporter": "python",
   "pygments_lexer": "ipython3",
   "version": "3.7.9"
  }
 },
 "nbformat": 4,
 "nbformat_minor": 5
}
